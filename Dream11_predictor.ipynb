{
  "nbformat": 4,
  "nbformat_minor": 0,
  "metadata": {
    "colab": {
      "name": "Dream11_predictor.ipynb",
      "provenance": [],
      "collapsed_sections": [],
      "authorship_tag": "ABX9TyNdHrRsRerJDbZkurosLEAf",
      "include_colab_link": true
    },
    "kernelspec": {
      "name": "python3",
      "display_name": "Python 3"
    }
  },
  "cells": [
    {
      "cell_type": "markdown",
      "metadata": {
        "id": "view-in-github",
        "colab_type": "text"
      },
      "source": [
        "<a href=\"https://colab.research.google.com/github/sarathsajan/dream11-predictor/blob/main/Dream11_predictor.ipynb\" target=\"_parent\"><img src=\"https://colab.research.google.com/assets/colab-badge.svg\" alt=\"Open In Colab\"/></a>"
      ]
    },
    {
      "cell_type": "markdown",
      "metadata": {
        "id": "NH2lK-0l1za4"
      },
      "source": [
        "# **Dream11 Fantasy Team Analysis**"
      ]
    },
    {
      "cell_type": "markdown",
      "metadata": {
        "id": "kA4fND9Ix7QU"
      },
      "source": [
        "This is a newbie's first step into data analysis, so bear with me if I do steps which are completely absurd and outright wrong. Also i dont have thousands of datapoints, each data point had to be manually filled from the dream11 app after each game. So if someone has any better ideas to get the data, please shoot I am all ears."
      ]
    },
    {
      "cell_type": "markdown",
      "metadata": {
        "id": "7Wqxl1Ki0jfK"
      },
      "source": [
        "That said, IPL is back and I recently started playing Dream11 as I had nothing else to do. There were so many low-cost paid matches, which had some pretty big prize money but unfortunately the bigger the amount is so is the participation. I knew I would struggle if I outright played with cash, so as a start I did what all great pro players do. I decided to go for the practice matches."
      ]
    },
    {
      "cell_type": "markdown",
      "metadata": {
        "id": "D7YMxjCMzohY"
      },
      "source": [
        "And so I went for the 10000 slot competetion. The first team I created was a completely random team with which I got 8000ish rank out of 10000. Even though it was completely random I started getting the feel of it and the next team made it to sub-6000 rank. By the third match I was getting in the grove of making teams which could easily break the sub-5000 rank and rarely going above 5000."
      ]
    },
    {
      "cell_type": "markdown",
      "metadata": {
        "id": "lohUcdXP0pPx"
      },
      "source": [
        "TODO : fill in the intro story here"
      ]
    },
    {
      "cell_type": "markdown",
      "metadata": {
        "id": "ZmUO6ondy66c"
      },
      "source": [
        "## Libraries used\n",
        "\n",
        "In this project we will use the following libraries\n",
        "* numpy: for fast manipulation & calculation of large, multi-dimensional arrays and matrices\n",
        "* pandas: for data manipulation and analysis\n",
        "* seaborn: for plotting and visualising data\n",
        "* matplotlib: plotting and visualising data"
      ]
    },
    {
      "cell_type": "code",
      "metadata": {
        "id": "LhqvNva3znli"
      },
      "source": [
        "#from google.colab import files\n",
        "import io\n",
        "import numpy as np\n",
        "import pandas as pd\n",
        "import seaborn as sns\n",
        "import matplotlib.pyplot as plt"
      ],
      "execution_count": 1,
      "outputs": []
    },
    {
      "cell_type": "markdown",
      "metadata": {
        "id": "jqTeNihG0uQW"
      },
      "source": [
        "## Data\n",
        "So here's the csv file I created. It contains the details of only those matches that I competed in, as Dream11 wouldn't allow to see the player points of past matches which I haven't competed in."
      ]
    },
    {
      "cell_type": "code",
      "metadata": {
        "id": "N_6pheEP1raR",
        "outputId": "589731bb-1bea-44b7-faf9-e2480e2ca2cc",
        "colab": {
          "base_uri": "https://localhost:8080/",
          "height": 540
        }
      },
      "source": [
        "#uploaded = files.upload()\n",
        "#df = pd.read_csv(io.BytesIO(uploaded['d11_dataset.csv']))\n",
        "df = pd.read_csv('https://raw.githubusercontent.com/sarathsajan/dream11-predictor/main/d11-dataset.csv')"
      ],
      "execution_count": 2,
      "outputs": [
        {
          "output_type": "error",
          "ename": "ParserError",
          "evalue": "ignored",
          "traceback": [
            "\u001b[0;31m---------------------------------------------------------------------------\u001b[0m",
            "\u001b[0;31mParserError\u001b[0m                               Traceback (most recent call last)",
            "\u001b[0;32m<ipython-input-2-a20da26f49a2>\u001b[0m in \u001b[0;36m<module>\u001b[0;34m()\u001b[0m\n\u001b[1;32m      1\u001b[0m \u001b[0;31m#uploaded = files.upload()\u001b[0m\u001b[0;34m\u001b[0m\u001b[0;34m\u001b[0m\u001b[0;34m\u001b[0m\u001b[0m\n\u001b[1;32m      2\u001b[0m \u001b[0;31m#df = pd.read_csv(io.BytesIO(uploaded['d11_dataset.csv']))\u001b[0m\u001b[0;34m\u001b[0m\u001b[0;34m\u001b[0m\u001b[0;34m\u001b[0m\u001b[0m\n\u001b[0;32m----> 3\u001b[0;31m \u001b[0mdf\u001b[0m \u001b[0;34m=\u001b[0m \u001b[0mpd\u001b[0m\u001b[0;34m.\u001b[0m\u001b[0mread_csv\u001b[0m\u001b[0;34m(\u001b[0m\u001b[0;34m'https://raw.githubusercontent.com/sarathsajan/dream11-predictor/main/d11-dataset.csv'\u001b[0m\u001b[0;34m)\u001b[0m\u001b[0;34m\u001b[0m\u001b[0;34m\u001b[0m\u001b[0m\n\u001b[0m",
            "\u001b[0;32m/usr/local/lib/python3.6/dist-packages/pandas/io/parsers.py\u001b[0m in \u001b[0;36mread_csv\u001b[0;34m(filepath_or_buffer, sep, delimiter, header, names, index_col, usecols, squeeze, prefix, mangle_dupe_cols, dtype, engine, converters, true_values, false_values, skipinitialspace, skiprows, skipfooter, nrows, na_values, keep_default_na, na_filter, verbose, skip_blank_lines, parse_dates, infer_datetime_format, keep_date_col, date_parser, dayfirst, cache_dates, iterator, chunksize, compression, thousands, decimal, lineterminator, quotechar, quoting, doublequote, escapechar, comment, encoding, dialect, error_bad_lines, warn_bad_lines, delim_whitespace, low_memory, memory_map, float_precision)\u001b[0m\n\u001b[1;32m    684\u001b[0m     )\n\u001b[1;32m    685\u001b[0m \u001b[0;34m\u001b[0m\u001b[0m\n\u001b[0;32m--> 686\u001b[0;31m     \u001b[0;32mreturn\u001b[0m \u001b[0m_read\u001b[0m\u001b[0;34m(\u001b[0m\u001b[0mfilepath_or_buffer\u001b[0m\u001b[0;34m,\u001b[0m \u001b[0mkwds\u001b[0m\u001b[0;34m)\u001b[0m\u001b[0;34m\u001b[0m\u001b[0;34m\u001b[0m\u001b[0m\n\u001b[0m\u001b[1;32m    687\u001b[0m \u001b[0;34m\u001b[0m\u001b[0m\n\u001b[1;32m    688\u001b[0m \u001b[0;34m\u001b[0m\u001b[0m\n",
            "\u001b[0;32m/usr/local/lib/python3.6/dist-packages/pandas/io/parsers.py\u001b[0m in \u001b[0;36m_read\u001b[0;34m(filepath_or_buffer, kwds)\u001b[0m\n\u001b[1;32m    456\u001b[0m \u001b[0;34m\u001b[0m\u001b[0m\n\u001b[1;32m    457\u001b[0m     \u001b[0;32mtry\u001b[0m\u001b[0;34m:\u001b[0m\u001b[0;34m\u001b[0m\u001b[0;34m\u001b[0m\u001b[0m\n\u001b[0;32m--> 458\u001b[0;31m         \u001b[0mdata\u001b[0m \u001b[0;34m=\u001b[0m \u001b[0mparser\u001b[0m\u001b[0;34m.\u001b[0m\u001b[0mread\u001b[0m\u001b[0;34m(\u001b[0m\u001b[0mnrows\u001b[0m\u001b[0;34m)\u001b[0m\u001b[0;34m\u001b[0m\u001b[0;34m\u001b[0m\u001b[0m\n\u001b[0m\u001b[1;32m    459\u001b[0m     \u001b[0;32mfinally\u001b[0m\u001b[0;34m:\u001b[0m\u001b[0;34m\u001b[0m\u001b[0;34m\u001b[0m\u001b[0m\n\u001b[1;32m    460\u001b[0m         \u001b[0mparser\u001b[0m\u001b[0;34m.\u001b[0m\u001b[0mclose\u001b[0m\u001b[0;34m(\u001b[0m\u001b[0;34m)\u001b[0m\u001b[0;34m\u001b[0m\u001b[0;34m\u001b[0m\u001b[0m\n",
            "\u001b[0;32m/usr/local/lib/python3.6/dist-packages/pandas/io/parsers.py\u001b[0m in \u001b[0;36mread\u001b[0;34m(self, nrows)\u001b[0m\n\u001b[1;32m   1184\u001b[0m     \u001b[0;32mdef\u001b[0m \u001b[0mread\u001b[0m\u001b[0;34m(\u001b[0m\u001b[0mself\u001b[0m\u001b[0;34m,\u001b[0m \u001b[0mnrows\u001b[0m\u001b[0;34m=\u001b[0m\u001b[0;32mNone\u001b[0m\u001b[0;34m)\u001b[0m\u001b[0;34m:\u001b[0m\u001b[0;34m\u001b[0m\u001b[0;34m\u001b[0m\u001b[0m\n\u001b[1;32m   1185\u001b[0m         \u001b[0mnrows\u001b[0m \u001b[0;34m=\u001b[0m \u001b[0m_validate_integer\u001b[0m\u001b[0;34m(\u001b[0m\u001b[0;34m\"nrows\"\u001b[0m\u001b[0;34m,\u001b[0m \u001b[0mnrows\u001b[0m\u001b[0;34m)\u001b[0m\u001b[0;34m\u001b[0m\u001b[0;34m\u001b[0m\u001b[0m\n\u001b[0;32m-> 1186\u001b[0;31m         \u001b[0mret\u001b[0m \u001b[0;34m=\u001b[0m \u001b[0mself\u001b[0m\u001b[0;34m.\u001b[0m\u001b[0m_engine\u001b[0m\u001b[0;34m.\u001b[0m\u001b[0mread\u001b[0m\u001b[0;34m(\u001b[0m\u001b[0mnrows\u001b[0m\u001b[0;34m)\u001b[0m\u001b[0;34m\u001b[0m\u001b[0;34m\u001b[0m\u001b[0m\n\u001b[0m\u001b[1;32m   1187\u001b[0m \u001b[0;34m\u001b[0m\u001b[0m\n\u001b[1;32m   1188\u001b[0m         \u001b[0;31m# May alter columns / col_dict\u001b[0m\u001b[0;34m\u001b[0m\u001b[0;34m\u001b[0m\u001b[0;34m\u001b[0m\u001b[0m\n",
            "\u001b[0;32m/usr/local/lib/python3.6/dist-packages/pandas/io/parsers.py\u001b[0m in \u001b[0;36mread\u001b[0;34m(self, nrows)\u001b[0m\n\u001b[1;32m   2143\u001b[0m     \u001b[0;32mdef\u001b[0m \u001b[0mread\u001b[0m\u001b[0;34m(\u001b[0m\u001b[0mself\u001b[0m\u001b[0;34m,\u001b[0m \u001b[0mnrows\u001b[0m\u001b[0;34m=\u001b[0m\u001b[0;32mNone\u001b[0m\u001b[0;34m)\u001b[0m\u001b[0;34m:\u001b[0m\u001b[0;34m\u001b[0m\u001b[0;34m\u001b[0m\u001b[0m\n\u001b[1;32m   2144\u001b[0m         \u001b[0;32mtry\u001b[0m\u001b[0;34m:\u001b[0m\u001b[0;34m\u001b[0m\u001b[0;34m\u001b[0m\u001b[0m\n\u001b[0;32m-> 2145\u001b[0;31m             \u001b[0mdata\u001b[0m \u001b[0;34m=\u001b[0m \u001b[0mself\u001b[0m\u001b[0;34m.\u001b[0m\u001b[0m_reader\u001b[0m\u001b[0;34m.\u001b[0m\u001b[0mread\u001b[0m\u001b[0;34m(\u001b[0m\u001b[0mnrows\u001b[0m\u001b[0;34m)\u001b[0m\u001b[0;34m\u001b[0m\u001b[0;34m\u001b[0m\u001b[0m\n\u001b[0m\u001b[1;32m   2146\u001b[0m         \u001b[0;32mexcept\u001b[0m \u001b[0mStopIteration\u001b[0m\u001b[0;34m:\u001b[0m\u001b[0;34m\u001b[0m\u001b[0;34m\u001b[0m\u001b[0m\n\u001b[1;32m   2147\u001b[0m             \u001b[0;32mif\u001b[0m \u001b[0mself\u001b[0m\u001b[0;34m.\u001b[0m\u001b[0m_first_chunk\u001b[0m\u001b[0;34m:\u001b[0m\u001b[0;34m\u001b[0m\u001b[0;34m\u001b[0m\u001b[0m\n",
            "\u001b[0;32mpandas/_libs/parsers.pyx\u001b[0m in \u001b[0;36mpandas._libs.parsers.TextReader.read\u001b[0;34m()\u001b[0m\n",
            "\u001b[0;32mpandas/_libs/parsers.pyx\u001b[0m in \u001b[0;36mpandas._libs.parsers.TextReader._read_low_memory\u001b[0;34m()\u001b[0m\n",
            "\u001b[0;32mpandas/_libs/parsers.pyx\u001b[0m in \u001b[0;36mpandas._libs.parsers.TextReader._read_rows\u001b[0;34m()\u001b[0m\n",
            "\u001b[0;32mpandas/_libs/parsers.pyx\u001b[0m in \u001b[0;36mpandas._libs.parsers.TextReader._tokenize_rows\u001b[0;34m()\u001b[0m\n",
            "\u001b[0;32mpandas/_libs/parsers.pyx\u001b[0m in \u001b[0;36mpandas._libs.parsers.raise_parser_error\u001b[0;34m()\u001b[0m\n",
            "\u001b[0;31mParserError\u001b[0m: Error tokenizing data. C error: Expected 4 fields in line 274, saw 5\n"
          ]
        }
      ]
    },
    {
      "cell_type": "markdown",
      "metadata": {
        "id": "ZaSqHMxA27wD"
      },
      "source": [
        "## Exploring the data\n",
        "Lets do some data exploration before starting with the analysis"
      ]
    },
    {
      "cell_type": "code",
      "metadata": {
        "id": "xt6-6NXF3H4b"
      },
      "source": [
        "print (df.head())\n",
        "print (df.info())\n",
        "print (df.describe())"
      ],
      "execution_count": null,
      "outputs": []
    },
    {
      "cell_type": "markdown",
      "metadata": {
        "id": "Foqc7SXh4VKa"
      },
      "source": [
        "Now we know that the dataframe contains selection_percent, type, team and points as the columns.\n",
        "* selection_percent: the percentage of participants who selected that player\n",
        "* type: the role of player which includes\n",
        "  * batsman\n",
        "  * bowler\n",
        "  * all-rounder\n",
        "  * wicket-keeper\n",
        "* team: the team that player represents. The teams in IPL 2020 season are\n",
        "  * Chennai Super Kings *CSK*\n",
        "  * Kings XI Punjab *KXIP*\n",
        "  * Mumbai Indians *MI*\n",
        "  * Delhi Capitals *DC*\n",
        "  * Royal Challengers Bangalore *RCB*\n",
        "  * Sunrisers Hyderabad *SRH*\n",
        "  * Kolkata Knight Riders *KKR*\n",
        "  * Rajasthan Royals *RR*"
      ]
    },
    {
      "cell_type": "markdown",
      "metadata": {
        "id": "NduKUyuyvJdT"
      },
      "source": [
        "## Graphing and visualising the data\n",
        "\n",
        "First lets plot the simple *points v/s selection_percent* graph"
      ]
    },
    {
      "cell_type": "code",
      "metadata": {
        "id": "gA3rYanueyGv"
      },
      "source": [
        "fig, axis = plt.subplots(1, 2, figsize=(25,5))\n",
        "sns.regplot(data=df, x='selection_percent', y='points', ci=0, order=1, ax=axis[0] )\n",
        "sns.regplot(data=df, x='selection_percent', y='points', ci=0, order=6, ax=axis[1]);\n",
        "\n",
        "#curve = np.polyfit(x=df['selection_percent'], y=df['points'], deg=7)\n",
        "#print (curve)"
      ],
      "execution_count": null,
      "outputs": []
    },
    {
      "cell_type": "markdown",
      "metadata": {
        "id": "_Q1DaquUeqUV"
      },
      "source": [
        "Now lets visualise the data in different groups\n",
        "* First we will plot selection_percent against points with additional grouping by teams\n",
        "* Second combination will be same as the first one except this type the groupings will be based on the type"
      ]
    },
    {
      "cell_type": "code",
      "metadata": {
        "id": "FPjQ_olix9J-"
      },
      "source": [
        "fig, axis = plt.subplots(ncols=2, figsize=(20,5))\n",
        "sns.scatterplot(data=df, x='selection_percent', y='points', hue='team', ax=axis[0])\n",
        "sns.scatterplot(data=df, x='selection_percent', y='points', hue='type', ax=axis[1]);"
      ],
      "execution_count": null,
      "outputs": []
    },
    {
      "cell_type": "markdown",
      "metadata": {
        "id": "LZ7WiDtGtnnd"
      },
      "source": [
        "Now lets plot each team's point distribution\n",
        "\n",
        "With this plot we can infer that,\n",
        "  * If the regression line is having a *positive slope*, the team is *more predictable*. Points and selection percent is highly correlating or in other words popular players are playing well\n",
        "\n",
        "  * If the regression line is *flat* then the team is *some what predictable*. Points and selection percent are not correlating or in other words both popular and unpopular players are playing an average game\n",
        "  \n",
        "  * If the regression line has a *negative slope* then the team is *less predictable*. Points and selection percent is inversly correlating or in other words unpopular players are shining and popular players are lagging behind\n"
      ]
    },
    {
      "cell_type": "code",
      "metadata": {
        "id": "BlRZz7FOsMXL"
      },
      "source": [
        "sns.lmplot(data=df, x=\"selection_percent\", y=\"points\", sharey=True, col=\"team\", col_wrap=4, hue='type', ci=False);"
      ],
      "execution_count": null,
      "outputs": []
    },
    {
      "cell_type": "markdown",
      "metadata": {
        "id": "AaJr7cP5gR9A"
      },
      "source": [
        "Now we will plot the same kind of graph with same meaning but this time with more depth. By depth I mean how correlated are the points and selection percentage for *each role* of *each team*"
      ]
    },
    {
      "cell_type": "code",
      "metadata": {
        "id": "K_f9UP4jiFHo"
      },
      "source": [
        "sns.lmplot(data=df, x=\"selection_percent\", y=\"points\", col=\"type\", col_wrap=4, ci=0);"
      ],
      "execution_count": null,
      "outputs": []
    },
    {
      "cell_type": "markdown",
      "metadata": {
        "id": "GAdQETCBrFHe"
      },
      "source": [
        "During match day fill in the team name and then select individual roles for your dream team by inferring from the regression line\n"
      ]
    },
    {
      "cell_type": "code",
      "metadata": {
        "id": "8bYewWGErPPY"
      },
      "source": [
        "sns.lmplot(data=df, x=\"selection_percent\", y=\"points\", col=\"type\", col_wrap=4, hue=\"team\", hue_order=['csk','rcb'], ci=0);"
      ],
      "execution_count": null,
      "outputs": []
    },
    {
      "cell_type": "markdown",
      "metadata": {
        "id": "NoGj3wEr6rbT"
      },
      "source": [
        "From 7th Oct I will start posting team performance by points they scored. Teams will be formed on the performance show in the above graphs and the latest match result will be updated after each match. Each match will have 4 teams formed on basis of below selection format\n",
        "\n",
        "T1 - the crowd-said-so team\n",
        "\n",
        "T2 - the I-said-so team\n",
        "\n",
        "T3 - the expert's-said-so team\n",
        "\n",
        "T4 - the algorithm-said-so team\n",
        "\n",
        "Our whole focus will be whether the algorithm's team fare better than the team selected by the wisdom of crowd, the experts and my intuition"
      ]
    },
    {
      "cell_type": "code",
      "metadata": {
        "id": "rDmOZcp9Mra7"
      },
      "source": [
        "result_df = pd.read_csv('https://raw.githubusercontent.com/sarathsajan/dream11-predictor/main/d11-result.csv')\n",
        "result_df_melt = result_df.melt(id_vars='match_number', var_name='teams', value_name='points')\n",
        "result_df_melt['match_number'] = result_df_melt['match_number'].astype('category')\n",
        "sns.relplot(data=result_df_melt, x='match_number', y='points', hue='teams', kind=\"line\");"
      ],
      "execution_count": null,
      "outputs": []
    },
    {
      "cell_type": "markdown",
      "metadata": {
        "id": "arBAZI0A2LSV"
      },
      "source": [
        "## TO BE CONTINUED..."
      ]
    }
  ]
}